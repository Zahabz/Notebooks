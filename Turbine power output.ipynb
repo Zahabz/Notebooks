{
    "cells": [
        {
            "cell_type": "markdown",
            "metadata": {
                "collapsed": true
            },
            "source": "# Turbine power output data analysis."
        },
        {
            "cell_type": "code",
            "execution_count": 1,
            "metadata": {},
            "outputs": [
                {
                    "name": "stdout",
                    "output_type": "stream",
                    "text": "Zahabo is the toilet dead or alive\n"
                },
                {
                    "data": {
                        "text/plain": "{'Z': 1,\n 'a': 4,\n 'h': 2,\n 'b': 1,\n 'o': 3,\n ' ': 6,\n 'i': 3,\n 's': 1,\n 't': 3,\n 'e': 4,\n 'l': 2,\n 'd': 2,\n 'r': 1,\n 'v': 1}"
                    },
                    "execution_count": 1,
                    "metadata": {},
                    "output_type": "execute_result"
                }
            ],
            "source": "dict = {}\ntext = input()\nfor character in text:\n    dict[character] = text.count(character)\n    \ndict"
        },
        {
            "cell_type": "code",
            "execution_count": null,
            "metadata": {},
            "outputs": [],
            "source": ""
        }
    ],
    "metadata": {
        "kernelspec": {
            "display_name": "Python 3.9",
            "language": "python",
            "name": "python3"
        },
        "language_info": {
            "codemirror_mode": {
                "name": "ipython",
                "version": 3
            },
            "file_extension": ".py",
            "mimetype": "text/x-python",
            "name": "python",
            "nbconvert_exporter": "python",
            "pygments_lexer": "ipython3",
            "version": "3.9.13"
        }
    },
    "nbformat": 4,
    "nbformat_minor": 1
}