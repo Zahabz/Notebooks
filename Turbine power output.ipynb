{
    "cells": [
        {
            "metadata": {
                "collapsed": true
            },
            "cell_type": "markdown",
            "source": "# Turbine power output data analysis."
        },
        {
            "metadata": {},
            "cell_type": "code",
            "source": "dict = {}\ntext = input()\nfor character in text:\n    dict[character] = text.count(character)\n    \ndict",
            "execution_count": 1,
            "outputs": [
                {
                    "output_type": "stream",
                    "name": "stdout",
                    "text": "It is a long established fact that a reader will be distracted by the readable content of a page when looking at its layout. The point of using Lorem Ipsum is that it has a more-or-less normal distribution of letters, as opposed to using 'Content here, content here', making it look like readable English. Many desktop publishing packages and web page editors now use Lorem Ipsum as their default model text, and a search for 'lorem ipsum' will uncover many web sites still in their infancy. Various versions have evolved over the years, sometimes by accident, sometimes on purpose (injected humour and the like\n"
                },
                {
                    "output_type": "execute_result",
                    "execution_count": 1,
                    "data": {
                        "text/plain": "{'I': 3,\n 't': 42,\n ' ': 103,\n 'i': 36,\n 's': 38,\n 'a': 38,\n 'l': 24,\n 'o': 38,\n 'n': 31,\n 'g': 10,\n 'e': 62,\n 'b': 10,\n 'h': 18,\n 'd': 18,\n 'f': 7,\n 'c': 11,\n 'r': 27,\n 'w': 6,\n 'y': 7,\n 'p': 13,\n 'k': 7,\n 'u': 15,\n '.': 3,\n 'T': 1,\n 'L': 2,\n 'm': 16,\n '-': 2,\n ',': 6,\n \"'\": 4,\n 'C': 1,\n 'E': 1,\n 'M': 1,\n 'x': 1,\n 'v': 6,\n 'V': 1,\n '(': 1,\n 'j': 1}"
                    },
                    "metadata": {}
                }
            ]
        },
        {
            "metadata": {},
            "cell_type": "code",
            "source": "",
            "execution_count": null,
            "outputs": []
        }
    ],
    "metadata": {
        "kernelspec": {
            "name": "python3",
            "display_name": "Python 3.9",
            "language": "python"
        },
        "language_info": {
            "name": "python",
            "version": "3.9.13",
            "mimetype": "text/x-python",
            "codemirror_mode": {
                "name": "ipython",
                "version": 3
            },
            "pygments_lexer": "ipython3",
            "nbconvert_exporter": "python",
            "file_extension": ".py"
        }
    },
    "nbformat": 4,
    "nbformat_minor": 1
}