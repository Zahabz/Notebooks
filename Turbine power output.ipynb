{
    "cells": [
        {
            "cell_type": "markdown",
            "metadata": {
                "collapsed": true
            },
            "source": "# Turbine power output data analysis."
        },
        {
            "cell_type": "code",
            "execution_count": 1,
            "metadata": {},
            "outputs": [
                {
                    "name": "stdout",
                    "output_type": "stream",
                    "text": "It is a long established fact that a reader will be distracted by the readable content of a page when looking at its layout. The point of using Lorem Ipsum is that it has a more-or-less normal distribution of letters, as opposed to using 'Content here, content here', making it look like readable English. Many desktop publishing packages and web page editors now use Lorem Ipsum as their default model text, and a search for 'lorem ipsum' will uncover many web sites still in their infancy. Various versions have evolved over the years, sometimes by accident, sometimes on purpose (injected humour and the like\n"
                },
                {
                    "data": {
                        "text/plain": "{'I': 3,\n 't': 42,\n ' ': 103,\n 'i': 36,\n 's': 38,\n 'a': 38,\n 'l': 24,\n 'o': 38,\n 'n': 31,\n 'g': 10,\n 'e': 62,\n 'b': 10,\n 'h': 18,\n 'd': 18,\n 'f': 7,\n 'c': 11,\n 'r': 27,\n 'w': 6,\n 'y': 7,\n 'p': 13,\n 'k': 7,\n 'u': 15,\n '.': 3,\n 'T': 1,\n 'L': 2,\n 'm': 16,\n '-': 2,\n ',': 6,\n \"'\": 4,\n 'C': 1,\n 'E': 1,\n 'M': 1,\n 'x': 1,\n 'v': 6,\n 'V': 1,\n '(': 1,\n 'j': 1}"
                    },
                    "execution_count": 1,
                    "metadata": {},
                    "output_type": "execute_result"
                }
            ],
            "source": "dict = {}\ntext = input()\nfor character in text:\n    dict[character] = text.count(character)\n    \ndict"
        },
        {
            "cell_type": "code",
            "execution_count": null,
            "metadata": {},
            "outputs": [],
            "source": ""
        }
    ],
    "metadata": {
        "kernelspec": {
            "display_name": "Python 3.9",
            "language": "python",
            "name": "python3"
        },
        "language_info": {
            "codemirror_mode": {
                "name": "ipython",
                "version": 3
            },
            "file_extension": ".py",
            "mimetype": "text/x-python",
            "name": "python",
            "nbconvert_exporter": "python",
            "pygments_lexer": "ipython3",
            "version": "3.9.13"
        }
    },
    "nbformat": 4,
    "nbformat_minor": 1
}